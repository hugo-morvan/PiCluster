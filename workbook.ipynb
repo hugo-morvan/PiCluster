{
 "cells": [
  {
   "cell_type": "markdown",
   "metadata": {},
   "source": [
    "# Using fabric to setup a Cluster of Raspberry Pis"
   ]
  },
  {
   "cell_type": "markdown",
   "metadata": {},
   "source": [
    "## 1. Installing and importing the libraries\n",
    "\n",
    "I use two libraries: [Fabric](https://docs.fabfile.org/en/stable/) to manage the SSH connections and [Dotenv](https://pypi.org/project/python-dotenv/) to manage my SSH password and username without having to write down credentials it in the notebook, which is bad practice. I am using Python 3.11.10 .\n",
    "\n",
    "To install Fabric:\n",
    "\n",
    "`pip install fabric`\n",
    "\n",
    "To install dotenv:\n",
    "\n",
    "`pip install python-dotenv`\n",
    "\n",
    "dotenv works by fetching environment variables from a file named `.env`  in the same directory as the script/notebook. I have mine setup with the three following lines:\n",
    "\n",
    "SSH_PASSWORD=my_ssh_password\n",
    "\n",
    "SSH_USER=my_ssh_username\n",
    "\n",
    "ENV_TEST=hello\n",
    "\n",
    "I can then import the libraries and load the .env file to retrieve my username and password."
   ]
  },
  {
   "cell_type": "code",
   "execution_count": 1,
   "metadata": {},
   "outputs": [],
   "source": [
    "import os\n",
    "from fabric import *\n",
    "from dotenv import load_dotenv"
   ]
  },
  {
   "cell_type": "code",
   "execution_count": 2,
   "metadata": {},
   "outputs": [
    {
     "name": "stdout",
     "output_type": "stream",
     "text": [
      "hello\n"
     ]
    }
   ],
   "source": [
    "load_dotenv()\n",
    "test = os.getenv(\"ENV_TEST\") #to make sure that it is properly loaded\n",
    "print(test)\n",
    "ssh_password = os.getenv('SSH_PASSWORD')\n",
    "ssh_user = os.getenv('SSH_USER')"
   ]
  },
  {
   "cell_type": "markdown",
   "metadata": {},
   "source": [
    "## Fabric Serial and Parallel functions\n",
    "\n",
    "I have setup two function which allows me to send commands over ssh to my cluster either serially (one after another) or in parallel (all at the same time). Both of them require a dictionary of IP adresses to function.\n"
   ]
  },
  {
   "cell_type": "code",
   "execution_count": null,
   "metadata": {},
   "outputs": [],
   "source": [
    "# This is a dictionary of my nodes' local IP adresses\n",
    "ip_dict = {\n",
    "    '192.168.8.128': 'node 1',\n",
    "    '192.168.8.130': 'node 2',\n",
    "    '192.168.8.129': 'node 3',\n",
    "    '192.168.8.131': 'node 4',\n",
    "    '192.168.8.127': 'node 5',\n",
    "    '192.168.8.126': 'node 6',\n",
    "    '192.168.8.140': 'node 7'\n",
    "}"
   ]
  },
  {
   "cell_type": "code",
   "execution_count": 12,
   "metadata": {},
   "outputs": [],
   "source": [
    "def run_command_serial(command, ip_dict = ip_dict, ssh_password = ssh_password, ssh_user = ssh_user):\n",
    "    '''\n",
    "    This function takes a shell command (command),\n",
    "    a dictionary of IP adresses (ip_dict),\n",
    "    as well as your ssh credential (ssh_password)(ssh_user).\n",
    "    It then sends the command to each IP adress via ssh one by one,\n",
    "    and prints out the output from the command.\n",
    "    '''\n",
    "    hosts = ip_dict.keys()\n",
    "    \n",
    "    group = SerialGroup(*hosts, user=ssh_user, connect_kwargs={\"password\": ssh_password})\n",
    "    \n",
    "    # Execute the command in parallel on all hosts\n",
    "    results = group.run(command, hide=True)\n",
    "\n",
    "    # Process results\n",
    "    for connection, result in results.items():\n",
    "        print(f\"Host: {ip_dict[connection.host]}\")\n",
    "        print(f\"Output: {result.stdout.strip()}\")\n",
    "        print(f\"Error: {result.stderr.strip()}\")\n",
    "        print(f\"Exit Status: {result.exited}\")\n",
    "        print(\"-\" * 40)      \n",
    "        \n",
    "    return 0\n",
    "\n",
    "def run_command_parallel(command, ip_dict = ip_dict, ssh_password = ssh_password, ssh_user = ssh_user):\n",
    "    '''\n",
    "    This function takes a shell command (command),\n",
    "    a dictionary of IP adresses (ip_dict),\n",
    "    as well as your ssh credential (ssh_password)(ssh_user).\n",
    "    It then sends the command to all the IP address at the same time,\n",
    "    and prints out the output from the command.\n",
    "    Note that the output order will be randomly shuffled.\n",
    "    '''\n",
    "    \n",
    "    hosts = ip_dict.keys()\n",
    "    \n",
    "    group = ThreadingGroup(*hosts, user=ssh_user, connect_kwargs={\"password\": ssh_password})\n",
    "    \n",
    "    # Execute the command in parallel on all hosts\n",
    "    results = group.run(command, hide=True)\n",
    "\n",
    "    # Process results\n",
    "    for connection, result in results.items():\n",
    "        print(f\"Host: {ip_dict[connection.host]}\")\n",
    "        print(f\"Output: {result.stdout.strip()}\")\n",
    "        print(f\"Error: {result.stderr.strip()}\")\n",
    "        print(f\"Exit Status: {result.exited}\")\n",
    "        print(\"-\" * 40)      \n",
    "        \n",
    "    return 0\n"
   ]
  },
  {
   "cell_type": "markdown",
   "metadata": {},
   "source": [
    "Testing that the functions are working properly:"
   ]
  },
  {
   "cell_type": "code",
   "execution_count": 10,
   "metadata": {},
   "outputs": [
    {
     "name": "stdout",
     "output_type": "stream",
     "text": [
      "___ Testing the run_command_serial() function: ___\n",
      "Host: node 1\n",
      "Output: serial\n",
      "Tue  5 Nov 15:31:27 CET 2024\n",
      "Error: \n",
      "Exit Status: 0\n",
      "----------------------------------------\n",
      "Host: node 2\n",
      "Output: serial\n",
      "Tue  5 Nov 15:31:28 CET 2024\n",
      "Error: \n",
      "Exit Status: 0\n",
      "----------------------------------------\n",
      "Host: node 3\n",
      "Output: serial\n",
      "Tue  5 Nov 15:31:29 CET 2024\n",
      "Error: \n",
      "Exit Status: 0\n",
      "----------------------------------------\n",
      "Host: node 4\n",
      "Output: serial\n",
      "Tue  5 Nov 15:31:31 CET 2024\n",
      "Error: \n",
      "Exit Status: 0\n",
      "----------------------------------------\n",
      "Host: node 5\n",
      "Output: serial\n",
      "Tue  5 Nov 15:31:32 CET 2024\n",
      "Error: \n",
      "Exit Status: 0\n",
      "----------------------------------------\n",
      "Host: node 6\n",
      "Output: serial\n",
      "Tue  5 Nov 15:31:33 CET 2024\n",
      "Error: \n",
      "Exit Status: 0\n",
      "----------------------------------------\n",
      "Host: node 7\n",
      "Output: serial\n",
      "Tue  5 Nov 15:31:35 CET 2024\n",
      "Error: \n",
      "Exit Status: 0\n",
      "----------------------------------------\n",
      "___ Testing the run_command_parallel() function: ___\n",
      "Host: node 6\n",
      "Output: parallel\n",
      "Tue  5 Nov 15:31:36 CET 2024\n",
      "Error: \n",
      "Exit Status: 0\n",
      "----------------------------------------\n",
      "Host: node 5\n",
      "Output: parallel\n",
      "Tue  5 Nov 15:31:36 CET 2024\n",
      "Error: \n",
      "Exit Status: 0\n",
      "----------------------------------------\n",
      "Host: node 7\n",
      "Output: parallel\n",
      "Tue  5 Nov 15:31:36 CET 2024\n",
      "Error: \n",
      "Exit Status: 0\n",
      "----------------------------------------\n",
      "Host: node 4\n",
      "Output: parallel\n",
      "Tue  5 Nov 15:31:36 CET 2024\n",
      "Error: \n",
      "Exit Status: 0\n",
      "----------------------------------------\n",
      "Host: node 1\n",
      "Output: parallel\n",
      "Tue  5 Nov 15:31:36 CET 2024\n",
      "Error: \n",
      "Exit Status: 0\n",
      "----------------------------------------\n",
      "Host: node 3\n",
      "Output: parallel\n",
      "Tue  5 Nov 15:31:36 CET 2024\n",
      "Error: \n",
      "Exit Status: 0\n",
      "----------------------------------------\n",
      "Host: node 2\n",
      "Output: parallel\n",
      "Tue  5 Nov 15:31:36 CET 2024\n",
      "Error: \n",
      "Exit Status: 0\n",
      "----------------------------------------\n"
     ]
    },
    {
     "data": {
      "text/plain": [
       "0"
      ]
     },
     "execution_count": 10,
     "metadata": {},
     "output_type": "execute_result"
    }
   ],
   "source": [
    "print('___ Testing the run_command_serial() function: ___')\n",
    "run_command_serial(command = 'echo \"serial\"; sleep 1; date')\n",
    "print('___ Testing the run_command_parallel() function: ___')\n",
    "run_command_parallel(command = 'echo \"parallel\"; sleep 1; date')"
   ]
  },
  {
   "cell_type": "markdown",
   "metadata": {},
   "source": [
    "Notice that the timestamps for the 'serial' prints are all seperated by 1 second, while they are all the same for the 'parallel' prints. This means that the functions are working as intended."
   ]
  },
  {
   "cell_type": "markdown",
   "metadata": {},
   "source": [
    "## Docker Installation\n",
    "\n",
    "Now that we can communicate with our cluster, we can start installing Docker. But first, let's make sure that our package installer is up to date:"
   ]
  },
  {
   "cell_type": "code",
   "execution_count": null,
   "metadata": {},
   "outputs": [],
   "source": [
    "run_command_parallel('sudo apt-get update') # rather quick response\n",
    "run_command_parallel('sudo apt-get upgrade -y') # much longer response time"
   ]
  },
  {
   "cell_type": "markdown",
   "metadata": {},
   "source": [
    "### Installing Java (optional):"
   ]
  },
  {
   "cell_type": "code",
   "execution_count": null,
   "metadata": {},
   "outputs": [],
   "source": [
    "#Installing Java\n",
    "run_command_parallel(\"sudo apt install -y default-jre\")\n",
    "#Checking proper inntallation\n",
    "run_command_parallel(\"java -version\")"
   ]
  },
  {
   "cell_type": "markdown",
   "metadata": {},
   "source": [
    "### Installing Docker:"
   ]
  },
  {
   "cell_type": "code",
   "execution_count": 11,
   "metadata": {},
   "outputs": [
    {
     "name": "stdout",
     "output_type": "stream",
     "text": [
      "Host: node 8\n",
      "Output: # Executing docker install script, commit: 6d51e2cd8c04b38e1c2237820245f4fc262aca6c\n",
      "Client: Docker Engine - Community\n",
      " Version:           27.3.1\n",
      " API version:       1.47\n",
      " Go version:        go1.22.7\n",
      " Git commit:        ce12230\n",
      " Built:             Fri Sep 20 11:41:19 2024\n",
      " OS/Arch:           linux/arm64\n",
      " Context:           default\n",
      "\n",
      "Server: Docker Engine - Community\n",
      " Engine:\n",
      "  Version:          27.3.1\n",
      "  API version:      1.47 (minimum version 1.24)\n",
      "  Go version:       go1.22.7\n",
      "  Git commit:       41ca978\n",
      "  Built:            Fri Sep 20 11:41:19 2024\n",
      "  OS/Arch:          linux/arm64\n",
      "  Experimental:     false\n",
      " containerd:\n",
      "  Version:          1.7.22\n",
      "  GitCommit:        7f7fdf5fed64eb6a7caf99b3e12efcf9d60e311c\n",
      " runc:\n",
      "  Version:          1.1.14\n",
      "  GitCommit:        v1.1.14-0-g2c9f560\n",
      " docker-init:\n",
      "  Version:          0.19.0\n",
      "  GitCommit:        de40ad0\n",
      "\n",
      "================================================================================\n",
      "\n",
      "To run Docker as a non-privileged user, consider setting up the\n",
      "Docker daemon in rootless mode for your user:\n",
      "\n",
      "    dockerd-rootless-setuptool.sh install\n",
      "\n",
      "Visit https://docs.docker.com/go/rootless/ to learn about rootless mode.\n",
      "\n",
      "\n",
      "To run the Docker daemon as a fully privileged service, but granting non-root\n",
      "users access, refer to https://docs.docker.com/go/daemon-access/\n",
      "\n",
      "WARNING: Access to the remote API on a privileged Docker daemon is equivalent\n",
      "         to root access on the host. Refer to the 'Docker daemon attack surface'\n",
      "         documentation for details: https://docs.docker.com/go/attack-surface/\n",
      "\n",
      "================================================================================\n",
      "Error: + sudo -E sh -c apt-get -qq update >/dev/null\n",
      "+ sudo -E sh -c DEBIAN_FRONTEND=noninteractive apt-get -y -qq install ca-certificates curl >/dev/null\n",
      "+ sudo -E sh -c install -m 0755 -d /etc/apt/keyrings\n",
      "+ sudo -E sh -c curl -fsSL \"https://download.docker.com/linux/debian/gpg\" -o /etc/apt/keyrings/docker.asc\n",
      "+ sudo -E sh -c chmod a+r /etc/apt/keyrings/docker.asc\n",
      "+ sudo -E sh -c echo \"deb [arch=arm64 signed-by=/etc/apt/keyrings/docker.asc] https://download.docker.com/linux/debian bookworm stable\" > /etc/apt/sources.list.d/docker.list\n",
      "+ sudo -E sh -c apt-get -qq update >/dev/null\n",
      "+ sudo -E sh -c DEBIAN_FRONTEND=noninteractive apt-get -y -qq install docker-ce docker-ce-cli containerd.io docker-compose-plugin docker-ce-rootless-extras docker-buildx-plugin >/dev/null\n",
      "+ sudo -E sh -c docker version\n",
      "Exit Status: 0\n",
      "----------------------------------------\n",
      "Host: node 7\n",
      "Output: # Executing docker install script, commit: 6d51e2cd8c04b38e1c2237820245f4fc262aca6c\n",
      "Client: Docker Engine - Community\n",
      " Version:           27.3.1\n",
      " API version:       1.47\n",
      " Go version:        go1.22.7\n",
      " Git commit:        ce12230\n",
      " Built:             Fri Sep 20 11:41:19 2024\n",
      " OS/Arch:           linux/arm64\n",
      " Context:           default\n",
      "\n",
      "Server: Docker Engine - Community\n",
      " Engine:\n",
      "  Version:          27.3.1\n",
      "  API version:      1.47 (minimum version 1.24)\n",
      "  Go version:       go1.22.7\n",
      "  Git commit:       41ca978\n",
      "  Built:            Fri Sep 20 11:41:19 2024\n",
      "  OS/Arch:          linux/arm64\n",
      "  Experimental:     false\n",
      " containerd:\n",
      "  Version:          1.7.22\n",
      "  GitCommit:        7f7fdf5fed64eb6a7caf99b3e12efcf9d60e311c\n",
      " runc:\n",
      "  Version:          1.1.14\n",
      "  GitCommit:        v1.1.14-0-g2c9f560\n",
      " docker-init:\n",
      "  Version:          0.19.0\n",
      "  GitCommit:        de40ad0\n",
      "\n",
      "================================================================================\n",
      "\n",
      "To run Docker as a non-privileged user, consider setting up the\n",
      "Docker daemon in rootless mode for your user:\n",
      "\n",
      "    dockerd-rootless-setuptool.sh install\n",
      "\n",
      "Visit https://docs.docker.com/go/rootless/ to learn about rootless mode.\n",
      "\n",
      "\n",
      "To run the Docker daemon as a fully privileged service, but granting non-root\n",
      "users access, refer to https://docs.docker.com/go/daemon-access/\n",
      "\n",
      "WARNING: Access to the remote API on a privileged Docker daemon is equivalent\n",
      "         to root access on the host. Refer to the 'Docker daemon attack surface'\n",
      "         documentation for details: https://docs.docker.com/go/attack-surface/\n",
      "\n",
      "================================================================================\n",
      "Error: + sudo -E sh -c apt-get -qq update >/dev/null\n",
      "+ sudo -E sh -c DEBIAN_FRONTEND=noninteractive apt-get -y -qq install ca-certificates curl >/dev/null\n",
      "+ sudo -E sh -c install -m 0755 -d /etc/apt/keyrings\n",
      "+ sudo -E sh -c curl -fsSL \"https://download.docker.com/linux/debian/gpg\" -o /etc/apt/keyrings/docker.asc\n",
      "+ sudo -E sh -c chmod a+r /etc/apt/keyrings/docker.asc\n",
      "+ sudo -E sh -c echo \"deb [arch=arm64 signed-by=/etc/apt/keyrings/docker.asc] https://download.docker.com/linux/debian bookworm stable\" > /etc/apt/sources.list.d/docker.list\n",
      "+ sudo -E sh -c apt-get -qq update >/dev/null\n",
      "+ sudo -E sh -c DEBIAN_FRONTEND=noninteractive apt-get -y -qq install docker-ce docker-ce-cli containerd.io docker-compose-plugin docker-ce-rootless-extras docker-buildx-plugin >/dev/null\n",
      "+ sudo -E sh -c docker version\n",
      "Exit Status: 0\n",
      "----------------------------------------\n",
      "Host: node 5\n",
      "Output: # Executing docker install script, commit: 6d51e2cd8c04b38e1c2237820245f4fc262aca6c\n",
      "Client: Docker Engine - Community\n",
      " Version:           27.3.1\n",
      " API version:       1.47\n",
      " Go version:        go1.22.7\n",
      " Git commit:        ce12230\n",
      " Built:             Fri Sep 20 11:41:19 2024\n",
      " OS/Arch:           linux/arm64\n",
      " Context:           default\n",
      "\n",
      "Server: Docker Engine - Community\n",
      " Engine:\n",
      "  Version:          27.3.1\n",
      "  API version:      1.47 (minimum version 1.24)\n",
      "  Go version:       go1.22.7\n",
      "  Git commit:       41ca978\n",
      "  Built:            Fri Sep 20 11:41:19 2024\n",
      "  OS/Arch:          linux/arm64\n",
      "  Experimental:     false\n",
      " containerd:\n",
      "  Version:          1.7.22\n",
      "  GitCommit:        7f7fdf5fed64eb6a7caf99b3e12efcf9d60e311c\n",
      " runc:\n",
      "  Version:          1.1.14\n",
      "  GitCommit:        v1.1.14-0-g2c9f560\n",
      " docker-init:\n",
      "  Version:          0.19.0\n",
      "  GitCommit:        de40ad0\n",
      "\n",
      "================================================================================\n",
      "\n",
      "To run Docker as a non-privileged user, consider setting up the\n",
      "Docker daemon in rootless mode for your user:\n",
      "\n",
      "    dockerd-rootless-setuptool.sh install\n",
      "\n",
      "Visit https://docs.docker.com/go/rootless/ to learn about rootless mode.\n",
      "\n",
      "\n",
      "To run the Docker daemon as a fully privileged service, but granting non-root\n",
      "users access, refer to https://docs.docker.com/go/daemon-access/\n",
      "\n",
      "WARNING: Access to the remote API on a privileged Docker daemon is equivalent\n",
      "         to root access on the host. Refer to the 'Docker daemon attack surface'\n",
      "         documentation for details: https://docs.docker.com/go/attack-surface/\n",
      "\n",
      "================================================================================\n",
      "Error: + sudo -E sh -c apt-get -qq update >/dev/null\n",
      "+ sudo -E sh -c DEBIAN_FRONTEND=noninteractive apt-get -y -qq install ca-certificates curl >/dev/null\n",
      "+ sudo -E sh -c install -m 0755 -d /etc/apt/keyrings\n",
      "+ sudo -E sh -c curl -fsSL \"https://download.docker.com/linux/debian/gpg\" -o /etc/apt/keyrings/docker.asc\n",
      "+ sudo -E sh -c chmod a+r /etc/apt/keyrings/docker.asc\n",
      "+ sudo -E sh -c echo \"deb [arch=arm64 signed-by=/etc/apt/keyrings/docker.asc] https://download.docker.com/linux/debian bookworm stable\" > /etc/apt/sources.list.d/docker.list\n",
      "+ sudo -E sh -c apt-get -qq update >/dev/null\n",
      "+ sudo -E sh -c DEBIAN_FRONTEND=noninteractive apt-get -y -qq install docker-ce docker-ce-cli containerd.io docker-compose-plugin docker-ce-rootless-extras docker-buildx-plugin >/dev/null\n",
      "+ sudo -E sh -c docker version\n",
      "Exit Status: 0\n",
      "----------------------------------------\n",
      "Host: node 6\n",
      "Output: # Executing docker install script, commit: 6d51e2cd8c04b38e1c2237820245f4fc262aca6c\n",
      "Client: Docker Engine - Community\n",
      " Version:           27.3.1\n",
      " API version:       1.47\n",
      " Go version:        go1.22.7\n",
      " Git commit:        ce12230\n",
      " Built:             Fri Sep 20 11:41:19 2024\n",
      " OS/Arch:           linux/arm64\n",
      " Context:           default\n",
      "\n",
      "Server: Docker Engine - Community\n",
      " Engine:\n",
      "  Version:          27.3.1\n",
      "  API version:      1.47 (minimum version 1.24)\n",
      "  Go version:       go1.22.7\n",
      "  Git commit:       41ca978\n",
      "  Built:            Fri Sep 20 11:41:19 2024\n",
      "  OS/Arch:          linux/arm64\n",
      "  Experimental:     false\n",
      " containerd:\n",
      "  Version:          1.7.22\n",
      "  GitCommit:        7f7fdf5fed64eb6a7caf99b3e12efcf9d60e311c\n",
      " runc:\n",
      "  Version:          1.1.14\n",
      "  GitCommit:        v1.1.14-0-g2c9f560\n",
      " docker-init:\n",
      "  Version:          0.19.0\n",
      "  GitCommit:        de40ad0\n",
      "\n",
      "================================================================================\n",
      "\n",
      "To run Docker as a non-privileged user, consider setting up the\n",
      "Docker daemon in rootless mode for your user:\n",
      "\n",
      "    dockerd-rootless-setuptool.sh install\n",
      "\n",
      "Visit https://docs.docker.com/go/rootless/ to learn about rootless mode.\n",
      "\n",
      "\n",
      "To run the Docker daemon as a fully privileged service, but granting non-root\n",
      "users access, refer to https://docs.docker.com/go/daemon-access/\n",
      "\n",
      "WARNING: Access to the remote API on a privileged Docker daemon is equivalent\n",
      "         to root access on the host. Refer to the 'Docker daemon attack surface'\n",
      "         documentation for details: https://docs.docker.com/go/attack-surface/\n",
      "\n",
      "================================================================================\n",
      "Error: + sudo -E sh -c apt-get -qq update >/dev/null\n",
      "+ sudo -E sh -c DEBIAN_FRONTEND=noninteractive apt-get -y -qq install ca-certificates curl >/dev/null\n",
      "+ sudo -E sh -c install -m 0755 -d /etc/apt/keyrings\n",
      "+ sudo -E sh -c curl -fsSL \"https://download.docker.com/linux/debian/gpg\" -o /etc/apt/keyrings/docker.asc\n",
      "+ sudo -E sh -c chmod a+r /etc/apt/keyrings/docker.asc\n",
      "+ sudo -E sh -c echo \"deb [arch=arm64 signed-by=/etc/apt/keyrings/docker.asc] https://download.docker.com/linux/debian bookworm stable\" > /etc/apt/sources.list.d/docker.list\n",
      "+ sudo -E sh -c apt-get -qq update >/dev/null\n",
      "+ sudo -E sh -c DEBIAN_FRONTEND=noninteractive apt-get -y -qq install docker-ce docker-ce-cli containerd.io docker-compose-plugin docker-ce-rootless-extras docker-buildx-plugin >/dev/null\n",
      "+ sudo -E sh -c docker version\n",
      "Exit Status: 0\n",
      "----------------------------------------\n",
      "Host: node 4\n",
      "Output: # Executing docker install script, commit: 6d51e2cd8c04b38e1c2237820245f4fc262aca6c\n",
      "Client: Docker Engine - Community\n",
      " Version:           27.3.1\n",
      " API version:       1.47\n",
      " Go version:        go1.22.7\n",
      " Git commit:        ce12230\n",
      " Built:             Fri Sep 20 11:41:19 2024\n",
      " OS/Arch:           linux/arm64\n",
      " Context:           default\n",
      "\n",
      "Server: Docker Engine - Community\n",
      " Engine:\n",
      "  Version:          27.3.1\n",
      "  API version:      1.47 (minimum version 1.24)\n",
      "  Go version:       go1.22.7\n",
      "  Git commit:       41ca978\n",
      "  Built:            Fri Sep 20 11:41:19 2024\n",
      "  OS/Arch:          linux/arm64\n",
      "  Experimental:     false\n",
      " containerd:\n",
      "  Version:          1.7.22\n",
      "  GitCommit:        7f7fdf5fed64eb6a7caf99b3e12efcf9d60e311c\n",
      " runc:\n",
      "  Version:          1.1.14\n",
      "  GitCommit:        v1.1.14-0-g2c9f560\n",
      " docker-init:\n",
      "  Version:          0.19.0\n",
      "  GitCommit:        de40ad0\n",
      "\n",
      "================================================================================\n",
      "\n",
      "To run Docker as a non-privileged user, consider setting up the\n",
      "Docker daemon in rootless mode for your user:\n",
      "\n",
      "    dockerd-rootless-setuptool.sh install\n",
      "\n",
      "Visit https://docs.docker.com/go/rootless/ to learn about rootless mode.\n",
      "\n",
      "\n",
      "To run the Docker daemon as a fully privileged service, but granting non-root\n",
      "users access, refer to https://docs.docker.com/go/daemon-access/\n",
      "\n",
      "WARNING: Access to the remote API on a privileged Docker daemon is equivalent\n",
      "         to root access on the host. Refer to the 'Docker daemon attack surface'\n",
      "         documentation for details: https://docs.docker.com/go/attack-surface/\n",
      "\n",
      "================================================================================\n",
      "Error: + sudo -E sh -c apt-get -qq update >/dev/null\n",
      "+ sudo -E sh -c DEBIAN_FRONTEND=noninteractive apt-get -y -qq install ca-certificates curl >/dev/null\n",
      "+ sudo -E sh -c install -m 0755 -d /etc/apt/keyrings\n",
      "+ sudo -E sh -c curl -fsSL \"https://download.docker.com/linux/debian/gpg\" -o /etc/apt/keyrings/docker.asc\n",
      "+ sudo -E sh -c chmod a+r /etc/apt/keyrings/docker.asc\n",
      "+ sudo -E sh -c echo \"deb [arch=arm64 signed-by=/etc/apt/keyrings/docker.asc] https://download.docker.com/linux/debian bookworm stable\" > /etc/apt/sources.list.d/docker.list\n",
      "+ sudo -E sh -c apt-get -qq update >/dev/null\n",
      "+ sudo -E sh -c DEBIAN_FRONTEND=noninteractive apt-get -y -qq install docker-ce docker-ce-cli containerd.io docker-compose-plugin docker-ce-rootless-extras docker-buildx-plugin >/dev/null\n",
      "+ sudo -E sh -c docker version\n",
      "Exit Status: 0\n",
      "----------------------------------------\n",
      "Host: node 3\n",
      "Output: # Executing docker install script, commit: 6d51e2cd8c04b38e1c2237820245f4fc262aca6c\n",
      "Client: Docker Engine - Community\n",
      " Version:           27.3.1\n",
      " API version:       1.47\n",
      " Go version:        go1.22.7\n",
      " Git commit:        ce12230\n",
      " Built:             Fri Sep 20 11:41:19 2024\n",
      " OS/Arch:           linux/arm64\n",
      " Context:           default\n",
      "\n",
      "Server: Docker Engine - Community\n",
      " Engine:\n",
      "  Version:          27.3.1\n",
      "  API version:      1.47 (minimum version 1.24)\n",
      "  Go version:       go1.22.7\n",
      "  Git commit:       41ca978\n",
      "  Built:            Fri Sep 20 11:41:19 2024\n",
      "  OS/Arch:          linux/arm64\n",
      "  Experimental:     false\n",
      " containerd:\n",
      "  Version:          1.7.22\n",
      "  GitCommit:        7f7fdf5fed64eb6a7caf99b3e12efcf9d60e311c\n",
      " runc:\n",
      "  Version:          1.1.14\n",
      "  GitCommit:        v1.1.14-0-g2c9f560\n",
      " docker-init:\n",
      "  Version:          0.19.0\n",
      "  GitCommit:        de40ad0\n",
      "\n",
      "================================================================================\n",
      "\n",
      "To run Docker as a non-privileged user, consider setting up the\n",
      "Docker daemon in rootless mode for your user:\n",
      "\n",
      "    dockerd-rootless-setuptool.sh install\n",
      "\n",
      "Visit https://docs.docker.com/go/rootless/ to learn about rootless mode.\n",
      "\n",
      "\n",
      "To run the Docker daemon as a fully privileged service, but granting non-root\n",
      "users access, refer to https://docs.docker.com/go/daemon-access/\n",
      "\n",
      "WARNING: Access to the remote API on a privileged Docker daemon is equivalent\n",
      "         to root access on the host. Refer to the 'Docker daemon attack surface'\n",
      "         documentation for details: https://docs.docker.com/go/attack-surface/\n",
      "\n",
      "================================================================================\n",
      "Error: + sudo -E sh -c apt-get -qq update >/dev/null\n",
      "+ sudo -E sh -c DEBIAN_FRONTEND=noninteractive apt-get -y -qq install ca-certificates curl >/dev/null\n",
      "+ sudo -E sh -c install -m 0755 -d /etc/apt/keyrings\n",
      "+ sudo -E sh -c curl -fsSL \"https://download.docker.com/linux/debian/gpg\" -o /etc/apt/keyrings/docker.asc\n",
      "+ sudo -E sh -c chmod a+r /etc/apt/keyrings/docker.asc\n",
      "+ sudo -E sh -c echo \"deb [arch=arm64 signed-by=/etc/apt/keyrings/docker.asc] https://download.docker.com/linux/debian bookworm stable\" > /etc/apt/sources.list.d/docker.list\n",
      "+ sudo -E sh -c apt-get -qq update >/dev/null\n",
      "+ sudo -E sh -c DEBIAN_FRONTEND=noninteractive apt-get -y -qq install docker-ce docker-ce-cli containerd.io docker-compose-plugin docker-ce-rootless-extras docker-buildx-plugin >/dev/null\n",
      "+ sudo -E sh -c docker version\n",
      "Exit Status: 0\n",
      "----------------------------------------\n"
     ]
    },
    {
     "data": {
      "text/plain": [
       "0"
      ]
     },
     "execution_count": 11,
     "metadata": {},
     "output_type": "execute_result"
    }
   ],
   "source": [
    "run_command_parallel(command = 'curl -sSL https://get.docker.com | sh')"
   ]
  },
  {
   "cell_type": "markdown",
   "metadata": {},
   "source": [
    "Checking that Docker has been properly installed:"
   ]
  },
  {
   "cell_type": "code",
   "execution_count": 13,
   "metadata": {},
   "outputs": [
    {
     "name": "stdout",
     "output_type": "stream",
     "text": [
      "Host: node 5\n",
      "Output: Docker version 27.3.1, build ce12230\n",
      "Error: \n",
      "Exit Status: 0\n",
      "----------------------------------------\n",
      "Host: node 7\n",
      "Output: Docker version 27.3.1, build ce12230\n",
      "Error: \n",
      "Exit Status: 0\n",
      "----------------------------------------\n",
      "Host: node 4\n",
      "Output: Docker version 27.3.1, build ce12230\n",
      "Error: \n",
      "Exit Status: 0\n",
      "----------------------------------------\n",
      "Host: node 6\n",
      "Output: Docker version 27.3.1, build ce12230\n",
      "Error: \n",
      "Exit Status: 0\n",
      "----------------------------------------\n",
      "Host: node 3\n",
      "Output: Docker version 27.3.1, build ce12230\n",
      "Error: \n",
      "Exit Status: 0\n",
      "----------------------------------------\n",
      "Host: node 1\n",
      "Output: Docker version 27.3.1, build ce12230\n",
      "Error: \n",
      "Exit Status: 0\n",
      "----------------------------------------\n",
      "Host: node 2\n",
      "Output: Docker version 27.3.1, build ce12230\n",
      "Error: \n",
      "Exit Status: 0\n",
      "----------------------------------------\n"
     ]
    },
    {
     "data": {
      "text/plain": [
       "0"
      ]
     },
     "execution_count": 13,
     "metadata": {},
     "output_type": "execute_result"
    }
   ],
   "source": [
    "run_command_parallel(command = 'docker --version')"
   ]
  },
  {
   "cell_type": "markdown",
   "metadata": {},
   "source": [
    "Enable Docker to start on boot:"
   ]
  },
  {
   "cell_type": "code",
   "execution_count": 13,
   "metadata": {},
   "outputs": [
    {
     "name": "stdout",
     "output_type": "stream",
     "text": [
      "Host: node 7\n",
      "Output: \n",
      "Error: Synchronizing state of docker.service with SysV service script with /lib/systemd/systemd-sysv-install.\n",
      "Executing: /lib/systemd/systemd-sysv-install enable docker\n",
      "Exit Status: 0\n",
      "----------------------------------------\n",
      "Host: node 6\n",
      "Output: \n",
      "Error: Synchronizing state of docker.service with SysV service script with /lib/systemd/systemd-sysv-install.\n",
      "Executing: /lib/systemd/systemd-sysv-install enable docker\n",
      "Exit Status: 0\n",
      "----------------------------------------\n",
      "Host: node 8\n",
      "Output: \n",
      "Error: Synchronizing state of docker.service with SysV service script with /lib/systemd/systemd-sysv-install.\n",
      "Executing: /lib/systemd/systemd-sysv-install enable docker\n",
      "Exit Status: 0\n",
      "----------------------------------------\n",
      "Host: node 5\n",
      "Output: \n",
      "Error: Synchronizing state of docker.service with SysV service script with /lib/systemd/systemd-sysv-install.\n",
      "Executing: /lib/systemd/systemd-sysv-install enable docker\n",
      "Exit Status: 0\n",
      "----------------------------------------\n",
      "Host: node 4\n",
      "Output: \n",
      "Error: Synchronizing state of docker.service with SysV service script with /lib/systemd/systemd-sysv-install.\n",
      "Executing: /lib/systemd/systemd-sysv-install enable docker\n",
      "Exit Status: 0\n",
      "----------------------------------------\n",
      "Host: node 3\n",
      "Output: \n",
      "Error: Synchronizing state of docker.service with SysV service script with /lib/systemd/systemd-sysv-install.\n",
      "Executing: /lib/systemd/systemd-sysv-install enable docker\n",
      "Exit Status: 0\n",
      "----------------------------------------\n",
      "Host: node 5\n",
      "Output: \n",
      "Error: \n",
      "Exit Status: 0\n",
      "----------------------------------------\n",
      "Host: node 8\n",
      "Output: \n",
      "Error: \n",
      "Exit Status: 0\n",
      "----------------------------------------\n",
      "Host: node 7\n",
      "Output: \n",
      "Error: \n",
      "Exit Status: 0\n",
      "----------------------------------------\n",
      "Host: node 6\n",
      "Output: \n",
      "Error: \n",
      "Exit Status: 0\n",
      "----------------------------------------\n",
      "Host: node 3\n",
      "Output: \n",
      "Error: \n",
      "Exit Status: 0\n",
      "----------------------------------------\n",
      "Host: node 4\n",
      "Output: \n",
      "Error: \n",
      "Exit Status: 0\n",
      "----------------------------------------\n"
     ]
    },
    {
     "data": {
      "text/plain": [
       "0"
      ]
     },
     "execution_count": 13,
     "metadata": {},
     "output_type": "execute_result"
    }
   ],
   "source": [
    "run_command_parallel(command = 'sudo systemctl enable docker')\n",
    "run_command_parallel(command = 'sudo systemctl start docker')"
   ]
  },
  {
   "cell_type": "markdown",
   "metadata": {},
   "source": [
    "### Setting up Docker swarm"
   ]
  },
  {
   "cell_type": "markdown",
   "metadata": {},
   "source": [
    "Initialize the Docker Swarm on the manager node:"
   ]
  },
  {
   "cell_type": "code",
   "execution_count": null,
   "metadata": {},
   "outputs": [],
   "source": [
    "ip_manager = {'192.168.8.128': 'node 1'}\n",
    "run_command_parallel(command='sudo docker swarm init --advertise-addr <MANAGER_NODE_IP>', \n",
    "                     ip_dict=ip_manager,\n",
    "                     ssh_password=ssh_password,\n",
    "                     ssh_user=ssh_user)"
   ]
  },
  {
   "cell_type": "markdown",
   "metadata": {},
   "source": [
    "After initializing the swarm, Docker will output a command with a token that you should run on each worker node."
   ]
  },
  {
   "cell_type": "markdown",
   "metadata": {},
   "source": [
    "Adding worker nodes to the Swarm:"
   ]
  },
  {
   "cell_type": "code",
   "execution_count": 14,
   "metadata": {},
   "outputs": [
    {
     "name": "stdout",
     "output_type": "stream",
     "text": [
      "Host: node 7\n",
      "Output: This node joined a swarm as a worker.\n",
      "Error: \n",
      "Exit Status: 0\n",
      "----------------------------------------\n",
      "Host: node 8\n",
      "Output: This node joined a swarm as a worker.\n",
      "Error: \n",
      "Exit Status: 0\n",
      "----------------------------------------\n",
      "Host: node 5\n",
      "Output: This node joined a swarm as a worker.\n",
      "Error: \n",
      "Exit Status: 0\n",
      "----------------------------------------\n",
      "Host: node 6\n",
      "Output: This node joined a swarm as a worker.\n",
      "Error: \n",
      "Exit Status: 0\n",
      "----------------------------------------\n",
      "Host: node 4\n",
      "Output: This node joined a swarm as a worker.\n",
      "Error: \n",
      "Exit Status: 0\n",
      "----------------------------------------\n",
      "Host: node 3\n",
      "Output: This node joined a swarm as a worker.\n",
      "Error: \n",
      "Exit Status: 0\n",
      "----------------------------------------\n"
     ]
    },
    {
     "data": {
      "text/plain": [
       "0"
      ]
     },
     "execution_count": 14,
     "metadata": {},
     "output_type": "execute_result"
    }
   ],
   "source": [
    "ip_workers = {\n",
    "    '192.168.8.130': 'node 2',\n",
    "    '192.168.8.129': 'node 3',\n",
    "    '192.168.8.131': 'node 4',\n",
    "    '192.168.8.127': 'node 5',\n",
    "    '192.168.8.126': 'node 6',\n",
    "    '192.168.8.140': 'node 7'\n",
    "}\n",
    "run_command_parallel(command = 'sudo docker swarm join --token <token> <MANAGER_NODE_IP>:2377',\n",
    "                     ip_dict=ip_workers,\n",
    "                     ssh_password=ssh_password,\n",
    "                     ssh_user=ssh_user)"
   ]
  },
  {
   "cell_type": "markdown",
   "metadata": {},
   "source": [
    "Verifying the Swarm cluster on the manager node:"
   ]
  },
  {
   "cell_type": "code",
   "execution_count": null,
   "metadata": {},
   "outputs": [],
   "source": [
    "run_command_parallel(command='sudo docker node ls', \n",
    "                     ip_dict=ip_manager,\n",
    "                     ssh_password=ssh_password,\n",
    "                     ssh_user=ssh_user)"
   ]
  },
  {
   "cell_type": "markdown",
   "metadata": {},
   "source": [
    "## Setting up Portainer"
   ]
  },
  {
   "cell_type": "markdown",
   "metadata": {},
   "source": [
    "### Installing Portainer on the Docker manager Node"
   ]
  },
  {
   "cell_type": "markdown",
   "metadata": {},
   "source": [
    "Portainer is a lightweight, easy-to-use UI for managing Docker environments, including Docker Swarm clusters. It has a web interface that allows you to manage and monitor containers, images, volumes, networks, and more. Portainer will be running on the manager node’s IP address."
   ]
  },
  {
   "cell_type": "code",
   "execution_count": null,
   "metadata": {},
   "outputs": [],
   "source": [
    "run_command_parallel(command='sudo docker volume create portainer_data', \n",
    "                     ip_dict=ip_manager,\n",
    "                     ssh_password=ssh_password,\n",
    "                     ssh_user=ssh_user)"
   ]
  },
  {
   "cell_type": "code",
   "execution_count": null,
   "metadata": {},
   "outputs": [],
   "source": [
    "run_command_parallel(command='sudo docker run -d -p 9000:9000 --name=portainer --restart=always -v /var/run/docker.sock:/var/run/docker.sock -v portainer_data:/data portainer/portainer-ce', \n",
    "                     ip_dict=ip_manager,\n",
    "                     ssh_password=ssh_password,\n",
    "                     ssh_user=ssh_user)"
   ]
  },
  {
   "cell_type": "markdown",
   "metadata": {},
   "source": [
    "### Accessing the Portainer UI\n",
    "\n",
    "Accessing the Portainer UI is really easy and can be done from any device on the network by simply opening a browser and going to `http://<MANAGER_NODE_IP>:9000`. You'll be prompted to create an admin user the first time you access it."
   ]
  },
  {
   "cell_type": "markdown",
   "metadata": {},
   "source": [
    "## Conclusion\n",
    "\n",
    "That's it ! The cluster is now setup and can be used to run and monitor docker containers using the Portainer User Interface."
   ]
  }
 ],
 "metadata": {
  "kernelspec": {
   "display_name": "cluster",
   "language": "python",
   "name": "python3"
  },
  "language_info": {
   "codemirror_mode": {
    "name": "ipython",
    "version": 3
   },
   "file_extension": ".py",
   "mimetype": "text/x-python",
   "name": "python",
   "nbconvert_exporter": "python",
   "pygments_lexer": "ipython3",
   "version": "3.11.10"
  }
 },
 "nbformat": 4,
 "nbformat_minor": 2
}
